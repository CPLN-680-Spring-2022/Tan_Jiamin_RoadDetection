{
 "cells": [
  {
   "cell_type": "code",
   "execution_count": 1,
   "id": "718c649b",
   "metadata": {},
   "outputs": [],
   "source": [
    "import geopandas as gpd\n",
    "import rasterio as rio"
   ]
  },
  {
   "cell_type": "code",
   "execution_count": 2,
   "id": "0786ece4",
   "metadata": {},
   "outputs": [],
   "source": [
    "# import sample folder data\n",
    "s_df = gpd.read_file('new.geojson')"
   ]
  },
  {
   "cell_type": "code",
   "execution_count": 3,
   "id": "8e4a13d2",
   "metadata": {},
   "outputs": [],
   "source": [
    "# templete/img path\n",
    "r_path = r'E:\\UPennOneDrive\\OneDrive - PennO365\\School\\UPenn\\Spring_2022\\CPLN_680\\SN3_roads_sample\\SpaceNet_Roads_Sample\\AOI_4_Shanghai_Roads_Sample\\RGB-PanSharpen\\RGB-PanSharpen_AOI_4_Shanghai_img144.tif'"
   ]
  },
  {
   "cell_type": "code",
   "execution_count": 5,
   "id": "de716e26",
   "metadata": {},
   "outputs": [],
   "source": [
    "# import a templete\n",
    "r_img = rio.open(r_path)"
   ]
  },
  {
   "cell_type": "code",
   "execution_count": 6,
   "id": "2af9da84",
   "metadata": {},
   "outputs": [
    {
     "data": {
      "text/plain": [
       "{'driver': 'GTiff',\n",
       " 'dtype': 'uint16',\n",
       " 'nodata': None,\n",
       " 'width': 1300,\n",
       " 'height': 1300,\n",
       " 'count': 3,\n",
       " 'crs': CRS.from_epsg(4326),\n",
       " 'transform': Affine(2.7000000000043656e-06, 0.0, 121.6042092,\n",
       "        0.0, -2.7000000000016326e-06, 31.2979059001)}"
      ]
     },
     "execution_count": 6,
     "metadata": {},
     "output_type": "execute_result"
    }
   ],
   "source": [
    "r_img.meta"
   ]
  },
  {
   "cell_type": "code",
   "execution_count": null,
   "id": "e2f06fe1",
   "metadata": {},
   "outputs": [],
   "source": []
  }
 ],
 "metadata": {
  "kernelspec": {
   "display_name": "Python 3 (ipykernel)",
   "language": "python",
   "name": "python3"
  },
  "language_info": {
   "codemirror_mode": {
    "name": "ipython",
    "version": 3
   },
   "file_extension": ".py",
   "mimetype": "text/x-python",
   "name": "python",
   "nbconvert_exporter": "python",
   "pygments_lexer": "ipython3",
   "version": "3.7.9"
  }
 },
 "nbformat": 4,
 "nbformat_minor": 5
}
