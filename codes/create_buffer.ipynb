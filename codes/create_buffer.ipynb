{
 "cells": [
  {
   "cell_type": "code",
   "execution_count": 132,
   "id": "3c90b47f",
   "metadata": {},
   "outputs": [],
   "source": [
    "import pandas as pd\n",
    "import geopandas as gpd"
   ]
  },
  {
   "cell_type": "code",
   "execution_count": 133,
   "id": "c0a8d7a9",
   "metadata": {},
   "outputs": [],
   "source": [
    "# sample folder geojson path\n",
    "s_path = r'E:\\UPennOneDrive\\OneDrive - PennO365\\School\\UPenn\\Spring_2022\\CPLN_680\\SN3_roads_sample\\SpaceNet_Roads_Sample\\AOI_4_Shanghai_Roads_Sample\\geojson\\spacenetroads\\spacenetroads_AOI_4_Shanghai_img144.geojson'"
   ]
  },
  {
   "cell_type": "code",
   "execution_count": 134,
   "id": "c8ddc29d",
   "metadata": {},
   "outputs": [],
   "source": [
    "# import sample folder data\n",
    "s_df = gpd.read_file(s_path)"
   ]
  },
  {
   "cell_type": "code",
   "execution_count": 135,
   "id": "55a9e9b3",
   "metadata": {},
   "outputs": [
    {
     "name": "stderr",
     "output_type": "stream",
     "text": [
      "C:\\Users\\nj_ta\\miniconda3\\envs\\cpln-680\\lib\\site-packages\\pyproj\\crs\\crs.py:53: FutureWarning: '+init=<authority>:<code>' syntax is deprecated. '<authority>:<code>' is the preferred initialization method. When making the change, be mindful of axis order changes: https://pyproj4.github.io/pyproj/stable/gotchas.html#axis-order-changes-in-proj-6\n",
      "  return _prepare_from_string(\" \".join(pjargs))\n"
     ]
    }
   ],
   "source": [
    "s_df = s_df.to_crs('EPSG:32651')"
   ]
  },
  {
   "cell_type": "code",
   "execution_count": 136,
   "id": "1cb3db4b",
   "metadata": {
    "scrolled": true
   },
   "outputs": [
    {
     "data": {
      "text/plain": [
       "<AxesSubplot:>"
      ]
     },
     "execution_count": 136,
     "metadata": {},
     "output_type": "execute_result"
    },
    {
     "data": {
      "image/png": "[encoded data removed]",
      "text/plain": [
       "<Figure size 432x288 with 1 Axes>"
      ]
     },
     "metadata": {
      "needs_background": "light"
     },
     "output_type": "display_data"
    }
   ],
   "source": [
    "s_df.plot()"
   ]
  },
  {
   "cell_type": "code",
   "execution_count": 137,
   "id": "fef0ea29",
   "metadata": {
    "scrolled": true
   },
   "outputs": [
    {
     "data": {
      "text/plain": [
       "0     14.0\n",
       "1      3.5\n",
       "2     14.0\n",
       "3     14.0\n",
       "4      3.5\n",
       "5      3.5\n",
       "6     14.0\n",
       "7      3.5\n",
       "8      3.5\n",
       "9      3.5\n",
       "10     3.5\n",
       "11     3.5\n",
       "12    14.0\n",
       "13     3.5\n",
       "14     7.0\n",
       "15    14.0\n",
       "16     3.5\n",
       "17    14.0\n",
       "18     3.5\n",
       "19     3.5\n",
       "20     3.5\n",
       "21     7.0\n",
       "22     7.0\n",
       "23    14.0\n",
       "24    14.0\n",
       "Name: lane_number, dtype: float64"
      ]
     },
     "execution_count": 137,
     "metadata": {},
     "output_type": "execute_result"
    }
   ],
   "source": [
    "pd.to_numeric(s_df['lane_number'])*3.5"
   ]
  },
  {
   "cell_type": "code",
   "execution_count": 138,
   "id": "02bc98c4",
   "metadata": {},
   "outputs": [],
   "source": [
    "s_df['buff_dist'] = pd.to_numeric(s_df['lane_number'])*3"
   ]
  },
  {
   "cell_type": "code",
   "execution_count": 139,
   "id": "66c0f695",
   "metadata": {},
   "outputs": [],
   "source": [
    "s_df['geometry'] = s_df.buffer(distance = s_df['buff_dist'], cap_style = 2)"
   ]
  },
  {
   "cell_type": "code",
   "execution_count": 140,
   "id": "0f4692f9",
   "metadata": {},
   "outputs": [],
   "source": [
    "s_df['dissolve_field'] = 1"
   ]
  },
  {
   "cell_type": "code",
   "execution_count": 141,
   "id": "820d76be",
   "metadata": {},
   "outputs": [],
   "source": [
    "s_df = s_df.dissolve(by = 'dissolve_field')"
   ]
  },
  {
   "cell_type": "code",
   "execution_count": 142,
   "id": "af6d76e7",
   "metadata": {
    "scrolled": true
   },
   "outputs": [],
   "source": [
    "s_df.to_file(\"new.geojson\", driver='GeoJSON')"
   ]
  },
  {
   "cell_type": "code",
   "execution_count": null,
   "id": "3944a532",
   "metadata": {},
   "outputs": [],
   "source": []
  }
 ],
 "metadata": {
  "kernelspec": {
   "display_name": "Python 3 (ipykernel)",
   "language": "python",
   "name": "python3"
  },
  "language_info": {
   "codemirror_mode": {
    "name": "ipython",
    "version": 3
   },
   "file_extension": ".py",
   "mimetype": "text/x-python",
   "name": "python",
   "nbconvert_exporter": "python",
   "pygments_lexer": "ipython3",
   "version": "3.7.9"
  }
 },
 "nbformat": 4,
 "nbformat_minor": 5
}
