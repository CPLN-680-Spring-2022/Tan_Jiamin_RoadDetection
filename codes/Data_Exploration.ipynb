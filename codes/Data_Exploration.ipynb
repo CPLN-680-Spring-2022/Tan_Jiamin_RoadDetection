{
 "cells": [
  {
   "cell_type": "markdown",
   "id": "40814103",
   "metadata": {},
   "source": [
    "# Data Exploration"
   ]
  },
  {
   "cell_type": "markdown",
   "id": "e45b1ea3",
   "metadata": {},
   "source": [
    "This Jupyter Notebook briefly explores the first image provided in the Shanghai training dataset of the SpaceNet Challenge 3 along with the labels provided. The training dataset contains more than 1000 pictures per category listed below, so only the first image is used for exploration."
   ]
  },
  {
   "cell_type": "code",
   "execution_count": 2,
   "id": "4bfa6058",
   "metadata": {},
   "outputs": [],
   "source": [
    "import imageio\n",
    "import geopandas as gpd\n",
    "import matplotlib.pyplot as plt"
   ]
  },
  {
   "cell_type": "markdown",
   "id": "88ec6b59",
   "metadata": {},
   "source": [
    "## Pan-Sharpened (PS) RGB Image"
   ]
  },
  {
   "cell_type": "code",
   "execution_count": 3,
   "id": "fcdb3c42",
   "metadata": {},
   "outputs": [
    {
     "data": {
      "text/plain": [
       "(1300, 1300, 3)"
      ]
     },
     "execution_count": 3,
     "metadata": {},
     "output_type": "execute_result"
    }
   ],
   "source": [
    "# read the pan-sharpened rgb image and get the shape of the image\n",
    "img_ps_rgb = imageio.imread('F:\\CPLN_680_Data\\SN3_roads_train_AOI_4_Shanghai\\AOI_4_Shanghai\\PS-RGB\\SN3_roads_train_AOI_4_Shanghai_PS-RGB_img2.tif')\n",
    "img_ps_rgb.shape\n",
    "# this is a 1300 * 1300 pixels image with 3 bands"
   ]
  },
  {
   "cell_type": "markdown",
   "id": "37c708d4",
   "metadata": {},
   "source": [
    "## Pan-Sharpened (PS) Multi-Spectral (MS) Image"
   ]
  },
  {
   "cell_type": "code",
   "execution_count": 4,
   "id": "b9ff584f",
   "metadata": {},
   "outputs": [
    {
     "data": {
      "text/plain": [
       "(1300, 1300, 8)"
      ]
     },
     "execution_count": 4,
     "metadata": {},
     "output_type": "execute_result"
    }
   ],
   "source": [
    "# read the pan-sharpened multispectral image and get the shape of the image\n",
    "img_ps_ms = imageio.imread('F:\\CPLN_680_Data\\SN3_roads_train_AOI_4_Shanghai\\AOI_4_Shanghai\\PS-MS\\SN3_roads_train_AOI_4_Shanghai_PS-MS_img2.tif')\n",
    "img_ps_ms.shape\n",
    "# this is a 1300 * 1300 pixels image with 8 bands"
   ]
  },
  {
   "cell_type": "markdown",
   "id": "84d54257",
   "metadata": {},
   "source": [
    "## Panchromatic Image"
   ]
  },
  {
   "cell_type": "code",
   "execution_count": 5,
   "id": "89fb9184",
   "metadata": {},
   "outputs": [
    {
     "data": {
      "text/plain": [
       "(1300, 1300)"
      ]
     },
     "execution_count": 5,
     "metadata": {},
     "output_type": "execute_result"
    }
   ],
   "source": [
    "# read the panchromatic image and get the shape of the image\n",
    "img_pan = imageio.imread('F:\\CPLN_680_Data\\SN3_roads_train_AOI_4_Shanghai\\AOI_4_Shanghai\\PAN\\SN3_roads_train_AOI_4_Shanghai_PAN_img2.tif')\n",
    "img_pan.shape\n",
    "# this is a 1300 * 1300 pixels image with only 1 band"
   ]
  },
  {
   "cell_type": "markdown",
   "id": "7f764356",
   "metadata": {},
   "source": [
    "## Multi-Spectral (MS) image"
   ]
  },
  {
   "cell_type": "code",
   "execution_count": 6,
   "id": "fcd574b7",
   "metadata": {},
   "outputs": [
    {
     "data": {
      "text/plain": [
       "(325, 325, 8)"
      ]
     },
     "execution_count": 6,
     "metadata": {},
     "output_type": "execute_result"
    }
   ],
   "source": [
    "# read the multispectral image and get the shape of the image\n",
    "img_ms = imageio.imread('F:\\CPLN_680_Data\\SN3_roads_train_AOI_4_Shanghai\\AOI_4_Shanghai\\MS\\SN3_roads_train_AOI_4_Shanghai_MS_img2.tif')\n",
    "img_ms.shape\n",
    "# this is a 325 * 325 pixels image with 8 bands"
   ]
  },
  {
   "cell_type": "markdown",
   "id": "6bcb8bad",
   "metadata": {},
   "source": [
    "## Labeled Ground Truth"
   ]
  },
  {
   "cell_type": "code",
   "execution_count": 10,
   "id": "79c3977e",
   "metadata": {},
   "outputs": [],
   "source": [
    "# read the labels from the geojson file\n",
    "road_img2 = gpd.read_file('F:\\CPLN_680_Data\\SN3_roads_train_AOI_4_Shanghai\\AOI_4_Shanghai\\geojson_roads\\SN3_roads_train_AOI_4_Shanghai_geojson_roads_img2.geojson')\n",
    "road_img2"
   ]
  },
  {
   "cell_type": "code",
   "execution_count": 13,
   "id": "2c0c6e3d",
   "metadata": {},
   "outputs": [
    {
     "data": {
      "text/plain": [
       "<AxesSubplot:>"
      ]
     },
     "execution_count": 13,
     "metadata": {},
     "output_type": "execute_result"
    },
    {
     "data": {
      "image/png": "[encoded data removed]",
      "text/plain": [
       "<Figure size 432x288 with 1 Axes>"
      ]
     },
     "metadata": {
      "needs_background": "light"
     },
     "output_type": "display_data"
    }
   ],
   "source": [
    "# briefly draw the strings (roads) from the geojson file\n",
    "road_img2.plot()"
   ]
  }
 ],
 "metadata": {
  "kernelspec": {
   "display_name": "Python 3 (ipykernel)",
   "language": "python",
   "name": "python3"
  },
  "language_info": {
   "codemirror_mode": {
    "name": "ipython",
    "version": 3
   },
   "file_extension": ".py",
   "mimetype": "text/x-python",
   "name": "python",
   "nbconvert_exporter": "python",
   "pygments_lexer": "ipython3",
   "version": "3.9.7"
  }
 },
 "nbformat": 4,
 "nbformat_minor": 5
}
