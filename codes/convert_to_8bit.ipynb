{
 "cells": [
  {
   "cell_type": "code",
   "execution_count": null,
   "id": "032c8dc8",
   "metadata": {},
   "outputs": [],
   "source": [
    "# from apls_utils"
   ]
  },
  {
   "cell_type": "code",
   "execution_count": 19,
   "id": "2b7f2ee8",
   "metadata": {},
   "outputs": [],
   "source": [
    "import gdal\n",
    "import numpy as np\n",
    "import subprocess"
   ]
  },
  {
   "cell_type": "code",
   "execution_count": 20,
   "id": "d9ba47ab",
   "metadata": {},
   "outputs": [],
   "source": [
    "def convertTo8Bit(rasterImageName, outputRaster,\n",
    "                  outputPixType='Byte',\n",
    "                  outputFormat='GTiff',\n",
    "                  rescale_type='rescale',\n",
    "                  percentiles=[2, 98]):\n",
    "\n",
    "    srcRaster = gdal.Open(rasterImageName)\n",
    "    nbands = srcRaster.RasterCount\n",
    "    if nbands == 3:\n",
    "        cmd = ['gdal_translate', '-ot', outputPixType, '-of', outputFormat,\n",
    "               '-co', '\"PHOTOMETRIC=rgb\"']\n",
    "    else:\n",
    "        cmd = ['gdal_translate', '-ot', outputPixType, '-of', outputFormat]\n",
    "\n",
    "    for bandId in range(srcRaster.RasterCount):\n",
    "        bandId = bandId+1\n",
    "        band = srcRaster.GetRasterBand(bandId)\n",
    "        if rescale_type == 'rescale':\n",
    "            bmin = band.GetMinimum()\n",
    "            bmax = band.GetMaximum()\n",
    "            # if not exist minimum and maximum values\n",
    "            if bmin is None or bmax is None:\n",
    "                (bmin, bmax) = band.ComputeRasterMinMax(1)\n",
    "            # else, rescale\n",
    "            band_arr_tmp = band.ReadAsArray()\n",
    "            bmin = np.percentile(band_arr_tmp.flatten(), percentiles[0])\n",
    "            bmax = np.percentile(band_arr_tmp.flatten(), percentiles[1])\n",
    "\n",
    "        else:\n",
    "            bmin, bmax = 0, 65535\n",
    "\n",
    "        cmd.append('-scale_{}'.format(bandId))\n",
    "        cmd.append('{}'.format(bmin))\n",
    "        cmd.append('{}'.format(bmax))\n",
    "        cmd.append('{}'.format(0))\n",
    "        cmd.append('{}'.format(255))\n",
    "\n",
    "    cmd.append(rasterImageName)\n",
    "    cmd.append(outputRaster)\n",
    "    print(cmd)\n",
    "    subprocess.call(cmd)\n",
    "\n",
    "    return"
   ]
  },
  {
   "cell_type": "code",
   "execution_count": 21,
   "id": "e0c7d405",
   "metadata": {},
   "outputs": [],
   "source": [
    "r_path = r'E:\\UPennOneDrive\\OneDrive - PennO365\\School\\UPenn\\Spring_2022\\CPLN_680\\SN3_roads_sample\\SpaceNet_Roads_Sample\\AOI_4_Shanghai_Roads_Sample\\RGB-PanSharpen\\RGB-PanSharpen_AOI_4_Shanghai_img144.tif'"
   ]
  },
  {
   "cell_type": "code",
   "execution_count": 22,
   "id": "60438f47",
   "metadata": {},
   "outputs": [
    {
     "name": "stdout",
     "output_type": "stream",
     "text": [
      "['gdal_translate', '-ot', 'Byte', '-of', 'GTiff', '-co', '\"PHOTOMETRIC=rgb\"', '-scale_1', '189.0', '708.0', '0', '255', '-scale_2', '339.0', '942.0', '0', '255', '-scale_3', '282.0', '665.0', '0', '255', 'E:\\\\UPennOneDrive\\\\OneDrive - PennO365\\\\School\\\\UPenn\\\\Spring_2022\\\\CPLN_680\\\\SN3_roads_sample\\\\SpaceNet_Roads_Sample\\\\AOI_4_Shanghai_Roads_Sample\\\\RGB-PanSharpen\\\\RGB-PanSharpen_AOI_4_Shanghai_img144.tif', 'test8bit.tiff']\n"
     ]
    }
   ],
   "source": [
    "convertTo8Bit(r_path, 'test8bit.tiff')"
   ]
  },
  {
   "cell_type": "code",
   "execution_count": null,
   "id": "e3a6e00b",
   "metadata": {},
   "outputs": [],
   "source": []
  }
 ],
 "metadata": {
  "kernelspec": {
   "display_name": "Python 3 (ipykernel)",
   "language": "python",
   "name": "python3"
  },
  "language_info": {
   "codemirror_mode": {
    "name": "ipython",
    "version": 3
   },
   "file_extension": ".py",
   "mimetype": "text/x-python",
   "name": "python",
   "nbconvert_exporter": "python",
   "pygments_lexer": "ipython3",
   "version": "3.7.9"
  }
 },
 "nbformat": 4,
 "nbformat_minor": 5
}
