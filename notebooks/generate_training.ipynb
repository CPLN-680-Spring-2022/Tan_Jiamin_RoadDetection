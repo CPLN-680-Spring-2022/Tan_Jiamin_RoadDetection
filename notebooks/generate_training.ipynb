{
  "nbformat": 4,
  "nbformat_minor": 0,
  "metadata": {
    "colab": {
      "name": "generate_training_2.ipynb",
      "provenance": [],
      "collapsed_sections": []
    },
    "kernelspec": {
      "name": "python3",
      "display_name": "Python 3"
    },
    "language_info": {
      "name": "python"
    }
  },
  "cells": [
    {
      "cell_type": "code",
      "source": [
        "\"\"\"\n",
        "Step 1: randomly split all images and their masks into the following:\n",
        "a training set (90%): 1070 images;\n",
        "a validation set (5%): 59 images;\n",
        "a test set (5%): 61 images.\n",
        "\n",
        "Step 2: randomly select 120 images from the training set above \n",
        "and parse them into 3000 smaller pieces (25 pieces for each image).\n",
        "The following sets of split images are created:\n",
        "a training set (95%): 2850 split images;\n",
        "a validation set (5%): 150 split images.\n",
        "\n",
        "Step 3: parsing all images from the test set in the first step into smaller\n",
        "pieces (25 pieces for each image) to generate\n",
        "a test set: 1525 split images.\n",
        "\n",
        "The package 'splitfolders' is used to split images and their masks into \n",
        "different set folders. Self-defined functions in the 'image_split.py' file \n",
        "are used for parsing whole images and their masks into smaller pieces.\n",
        "\n",
        "Parent folders for storing files are created manually. See split-folders \n",
        "documentation for specific directory formats. \n",
        "https://pypi.org/project/split-folders/\n",
        "\"\"\""
      ],
      "metadata": {
        "id": "60zFOImC_LUO"
      },
      "execution_count": null,
      "outputs": []
    },
    {
      "cell_type": "code",
      "source": [
        "\"\"\" Step 1 \"\"\""
      ],
      "metadata": {
        "id": "erjeDDS9B2Ex"
      },
      "execution_count": null,
      "outputs": []
    },
    {
      "cell_type": "code",
      "execution_count": null,
      "metadata": {
        "id": "-9l1mPL5720K"
      },
      "outputs": [],
      "source": [
        "!pip install split-folders\n",
        "import splitfolders"
      ]
    },
    {
      "cell_type": "code",
      "source": [
        "# set a seed for reproducibility\n",
        "seed = 789"
      ],
      "metadata": {
        "id": "GRgNT4bN-uaz"
      },
      "execution_count": null,
      "outputs": []
    },
    {
      "cell_type": "code",
      "source": [
        "# create a training set, a validation set, and a test set of whole images\n",
        "input_img_path = '/content/drive/MyDrive/School/UPenn/Spring_2022/CPLN_680/image_all'\n",
        "output_img_path = '/content/drive/MyDrive/School/UPenn/Spring_2022/CPLN_680/sh_all_image'\n",
        "splitfolders.ratio(input_img_path, output=output_img_path, seed=seed, ratio=(0.9, 0.05, 0.05)) "
      ],
      "metadata": {
        "id": "_DhwjlX_-1T-"
      },
      "execution_count": null,
      "outputs": []
    },
    {
      "cell_type": "code",
      "source": [
        "# get their corresponded masks by using the same seed and partition\n",
        "input_mask_path = '/content/drive/MyDrive/School/UPenn/Spring_2022/CPLN_680/mask_all\n",
        "output_mask_path = '/content/drive/MyDrive/School/UPenn/Spring_2022/CPLN_680/sh_all_mask'\n",
        "splitfolders.ratio(input_mask_path, output=output_mask_path, seed=seed, ratio=(0.9, 0.05,0.05))"
      ],
      "metadata": {
        "id": "xoHz8D3OCrsG"
      },
      "execution_count": null,
      "outputs": []
    },
    {
      "cell_type": "code",
      "source": [
        "\"\"\" Step 2 \"\"\""
      ],
      "metadata": {
        "id": "JPt4IA-xEFP6"
      },
      "execution_count": null,
      "outputs": []
    },
    {
      "cell_type": "code",
      "source": [
        "!cp /content/drive/MyDrive/Colab\\ Notebooks/codes/modules/image_split.py /content\n",
        "from image_split import crop, randimg, get_mask, split"
      ],
      "metadata": {
        "id": "M9nbevJWEJKG"
      },
      "execution_count": 2,
      "outputs": []
    },
    {
      "cell_type": "code",
      "source": [
        "# set a seed for reproducibility\n",
        "seed = 246"
      ],
      "metadata": {
        "id": "oQoTJvSLG70S"
      },
      "execution_count": null,
      "outputs": []
    },
    {
      "cell_type": "code",
      "source": [
        "# randomly select 120 images from the training set created, split them into 3000 (256, 256) pieces and store them\n",
        "input_image_all_dir = '/content/drive/MyDrive/School/UPenn/Spring_2022/CPLN_680/sh_all_image/train/images/'\n",
        "input_mask_all_dir = '/content/drive/MyDrive/School/UPenn/Spring_2022/CPLN_680/sh_all_mask/train/masks_xbuffer/'\n",
        "img_list = randimg(input_image_all_dir, 120, seed = seed) ## a list of filenames of selected images"
      ],
      "metadata": {
        "id": "98eJqKb-FXEu"
      },
      "execution_count": null,
      "outputs": []
    },
    {
      "cell_type": "code",
      "source": [
        "# get the corresponding masks of the randomly selected 120 images\n",
        "mask_list = get_mask(img_list) ## a list of filenames of corresponding masks"
      ],
      "metadata": {
        "id": "okJiF8WwHB5X"
      },
      "execution_count": null,
      "outputs": []
    },
    {
      "cell_type": "code",
      "source": [
        "# parsing each image and its mask to 25 (256, 256) pieces, 25 x 120 = 3000 in total \n",
        "output_image_all_dir = '/content/drive/MyDrive/School/UPenn/Spring_2022/CPLN_680/split_image_all/images/'\n",
        "output_mask_all_dir = '/content/drive/MyDrive/School/UPenn/Spring_2022/CPLN_680/split_mask_all/masks_xbuffer/'\n",
        "split(input_image_all_dir, output_image_all_dir, 256, 256, 120, 0, img_list=img_list)\n",
        "split(input_mask_all_dir, output_mask_all_dir, 256, 256, 120, 0, img_list=mask_list)"
      ],
      "metadata": {
        "id": "4odqLhB9INDF"
      },
      "execution_count": null,
      "outputs": []
    },
    {
      "cell_type": "code",
      "source": [
        "# split the parsed images to a training set and a validation set\n",
        "input_img_path_split = '/content/drive/MyDrive/School/UPenn/Spring_2022/CPLN_680/split_image_all/'\n",
        "output_img_path_split = '/content/drive/MyDrive/School/UPenn/Spring_2022/CPLN_680/sh_all_image_split/'\n",
        "splitfolders.ratio(input_img_path_split, output=output_img_path_split, seed=seed, ratio=(0.95, 0.05)) "
      ],
      "metadata": {
        "id": "gzYBYvfoJ0u_"
      },
      "execution_count": null,
      "outputs": []
    },
    {
      "cell_type": "code",
      "source": [
        "# split their corresponding masks\n",
        "input_mask_path_split = '/content/drive/MyDrive/School/UPenn/Spring_2022/CPLN_680/split_mask_all/'\n",
        "output_mask_path_split = '/content/drive/MyDrive/School/UPenn/Spring_2022/CPLN_680/sh_all_mask_split/'\n",
        "splitfolders.ratio(input_mask_path_split, output=output_mask_path_split, seed=seed, ratio=(0.95, 0.05)) "
      ],
      "metadata": {
        "id": "MJW4IDoVKJiu"
      },
      "execution_count": null,
      "outputs": []
    },
    {
      "cell_type": "code",
      "source": [
        "\"\"\" Step 3 \"\"\""
      ],
      "metadata": {
        "id": "tIXHKkAgJgXA"
      },
      "execution_count": null,
      "outputs": []
    },
    {
      "cell_type": "code",
      "source": [
        "# parsing each image and its mask in the test set to 25 (256, 256) pieces, 25 x 61 = 1525 in total\n",
        "input_test_img_dir = '/content/drive/MyDrive/School/UPenn/Spring_2022/CPLN_680/sh_all_image/test/images/'\n",
        "input_test_mask_dir = '/content/drive/MyDrive/School/UPenn/Spring_2022/CPLN_680/sh_all_mask/test/masks_xbuffer/'\n",
        "output_test_img_dir = '/content/drive/MyDrive/School/UPenn/Spring_2022/CPLN_680/sh_all_image_split/test/images/'\n",
        "output_test_mask_dir = '/content/drive/MyDrive/School/UPenn/Spring_2022/CPLN_680/sh_all_mask_split/test/masks_xbuffer/'"
      ],
      "metadata": {
        "id": "y1ux48uKJl5e"
      },
      "execution_count": null,
      "outputs": []
    },
    {
      "cell_type": "code",
      "source": [
        "# parsing images\n",
        "test_img_list = os.listdir(input_test_img_dir)\n",
        "split(input_test_img_dir, output_test_img_dir, 256, 256, 120, 0, img_list=test_img_list)"
      ],
      "metadata": {
        "id": "YcixcfIELvxa"
      },
      "execution_count": null,
      "outputs": []
    },
    {
      "cell_type": "code",
      "source": [
        "# parsing masks\n",
        "test_mask_list = os.listdir(input_test_mask_dir)\n",
        "split(input_test_mask_dir, output_test_mask_dir, 256, 256, 120, 0, img_list=test_mask_list)"
      ],
      "metadata": {
        "id": "kDeyEh_1LJGM"
      },
      "execution_count": null,
      "outputs": []
    }
  ]
}